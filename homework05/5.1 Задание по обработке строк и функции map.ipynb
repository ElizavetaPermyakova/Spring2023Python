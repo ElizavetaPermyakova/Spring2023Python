{
 "cells": [
  {
   "cell_type": "markdown",
   "id": "36acd434",
   "metadata": {},
   "source": [
    "# Пермякова Елизавета (НПМбд-01-20)"
   ]
  },
  {
   "cell_type": "markdown",
   "id": "17b7fddd",
   "metadata": {},
   "source": [
    "## 5.1 Задание по обработке строк и функции map"
   ]
  },
  {
   "cell_type": "markdown",
   "id": "63a7d45a",
   "metadata": {},
   "source": [
    "### Задание 1. Четные индексы "
   ]
  },
  {
   "cell_type": "code",
   "execution_count": 1,
   "id": "9f12eabf",
   "metadata": {},
   "outputs": [
    {
     "name": "stdout",
     "output_type": "stream",
     "text": [
      "1 2 3 4 5\n",
      "1 3 5\n"
     ]
    }
   ],
   "source": [
    "print(*input().split()[0::2])"
   ]
  },
  {
   "cell_type": "markdown",
   "id": "e731f471",
   "metadata": {},
   "source": [
    "### Задание 2. Наибольший элемент и его индекс "
   ]
  },
  {
   "cell_type": "code",
   "execution_count": 6,
   "id": "bd530367",
   "metadata": {},
   "outputs": [
    {
     "name": "stdout",
     "output_type": "stream",
     "text": [
      "1 2 3 2 1\n",
      "3 2\n"
     ]
    }
   ],
   "source": [
    "x = list(map(int, input().split()))\n",
    "print(max(x), x.index(max(x)))"
   ]
  },
  {
   "cell_type": "markdown",
   "id": "227912fc",
   "metadata": {},
   "source": [
    "### Задание 3.Вывести в обратном порядке "
   ]
  },
  {
   "cell_type": "code",
   "execution_count": 2,
   "id": "79bb4093",
   "metadata": {},
   "outputs": [
    {
     "name": "stdout",
     "output_type": "stream",
     "text": [
      "1 2 3 4 5\n",
      "5 4 3 2 1\n"
     ]
    }
   ],
   "source": [
    "print(*input().split()[::-1])"
   ]
  },
  {
   "cell_type": "markdown",
   "id": "9065fc11",
   "metadata": {},
   "source": [
    "### Задание 4. Переставить соседние "
   ]
  },
  {
   "cell_type": "code",
   "execution_count": 14,
   "id": "91a700e1",
   "metadata": {},
   "outputs": [
    {
     "name": "stdout",
     "output_type": "stream",
     "text": [
      "1 2 3 4 5\n",
      "2 1 4 3 5\n"
     ]
    }
   ],
   "source": [
    "x = input().split()\n",
    "x[:-1:2], x[1::2] = x[1::2], x[:-1:2]\n",
    "print(*x)"
   ]
  },
  {
   "cell_type": "markdown",
   "id": "50d0135e",
   "metadata": {},
   "source": [
    "### Задание 5. Циклический сдвиг вправо"
   ]
  },
  {
   "cell_type": "code",
   "execution_count": 16,
   "id": "51b3629a",
   "metadata": {},
   "outputs": [
    {
     "name": "stdout",
     "output_type": "stream",
     "text": [
      "1 2 3 4 5\n",
      "5 1 2 3 4\n"
     ]
    }
   ],
   "source": [
    "x = input().split()\n",
    "print(' '.join(x[-1:] + (x[:-1])))"
   ]
  },
  {
   "cell_type": "markdown",
   "id": "7cd9471c",
   "metadata": {},
   "source": [
    "### Задание 6. Удалить элемент"
   ]
  },
  {
   "cell_type": "code",
   "execution_count": 17,
   "id": "7a83c378",
   "metadata": {},
   "outputs": [
    {
     "name": "stdout",
     "output_type": "stream",
     "text": [
      "7 6 5 4 3 2 1\n",
      "2\n",
      "7 6 4 3 2 1\n"
     ]
    }
   ],
   "source": [
    "x = input().split()\n",
    "x.pop(int(input()))\n",
    "print(*x)"
   ]
  },
  {
   "cell_type": "markdown",
   "id": "194ec81b",
   "metadata": {},
   "source": [
    "### Задание 7. Вставить элемент"
   ]
  },
  {
   "cell_type": "code",
   "execution_count": 19,
   "id": "9fb79251",
   "metadata": {},
   "outputs": [
    {
     "name": "stdout",
     "output_type": "stream",
     "text": [
      "7 6 5 4 3 2 1\n",
      "2 0\n",
      "7 6 0 5 4 3 2 1\n"
     ]
    }
   ],
   "source": [
    "x = input().split()\n",
    "n, elem = map(int, input().split())\n",
    "print(*(x[:n] + list(str(elem)) + x[n:]))"
   ]
  },
  {
   "cell_type": "markdown",
   "id": "0e466bbd",
   "metadata": {},
   "source": [
    "### Задание 8. Большой сдвиг"
   ]
  },
  {
   "cell_type": "code",
   "execution_count": 21,
   "id": "4d00115b",
   "metadata": {},
   "outputs": [
    {
     "name": "stdout",
     "output_type": "stream",
     "text": [
      "5 3 7 4 6\n",
      "3\n",
      "7 4 6 5 3\n"
     ]
    }
   ],
   "source": [
    "x, n = input().split(), int(input())\n",
    "print(*(x[-n:] + (x[:-n])))"
   ]
  }
 ],
 "metadata": {
  "kernelspec": {
   "display_name": "Python 3 (ipykernel)",
   "language": "python",
   "name": "python3"
  },
  "language_info": {
   "codemirror_mode": {
    "name": "ipython",
    "version": 3
   },
   "file_extension": ".py",
   "mimetype": "text/x-python",
   "name": "python",
   "nbconvert_exporter": "python",
   "pygments_lexer": "ipython3",
   "version": "3.10.7"
  },
  "widgets": {
   "application/vnd.jupyter.widget-state+json": {
    "state": {},
    "version_major": 2,
    "version_minor": 0
   }
  }
 },
 "nbformat": 4,
 "nbformat_minor": 5
}
